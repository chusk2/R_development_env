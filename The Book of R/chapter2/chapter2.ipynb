{
 "cells": [
  {
   "cell_type": "markdown",
   "metadata": {},
   "source": [
    "## Chapter 2. NUMERICS, ARITHMETIC, ASSIGNMENT, AND VECTORS"
   ]
  },
  {
   "cell_type": "markdown",
   "metadata": {},
   "source": [
    "### Exercise 2.1"
   ]
  },
  {
   "cell_type": "markdown",
   "metadata": {},
   "source": [
    "<img src='exercise_2.1.jpg' width='700' />"
   ]
  },
  {
   "cell_type": "code",
   "execution_count": 37,
   "metadata": {
    "vscode": {
     "languageId": "r"
    }
   },
   "outputs": [
    {
     "data": {
      "text/html": [
       "29.5055606431273"
      ],
      "text/latex": [
       "29.5055606431273"
      ],
      "text/markdown": [
       "29.5055606431273"
      ],
      "text/plain": [
       "[1] 29.50556"
      ]
     },
     "metadata": {},
     "output_type": "display_data"
    }
   ],
   "source": [
    "a <- 2.3\n",
    "(6*a+42)/(3^(4.2-3.62))"
   ]
  },
  {
   "cell_type": "code",
   "execution_count": 38,
   "metadata": {
    "vscode": {
     "languageId": "r"
    }
   },
   "outputs": [
    {
     "data": {
      "text/html": [
       "3.00898654034876"
      ],
      "text/latex": [
       "3.00898654034876"
      ],
      "text/markdown": [
       "3.00898654034876"
      ],
      "text/plain": [
       "[1] 3.008987"
      ]
     },
     "metadata": {},
     "output_type": "display_data"
    }
   ],
   "source": [
    "c <- c(25.2, 15, 16.44, 15.3, 18.6)\n",
    "c <- sqrt(mean(c)/2)\n",
    "c"
   ]
  },
  {
   "cell_type": "code",
   "execution_count": 42,
   "metadata": {
    "vscode": {
     "languageId": "r"
    }
   },
   "outputs": [
    {
     "data": {
      "text/html": [
       "-1.20397280432594"
      ],
      "text/latex": [
       "-1.20397280432594"
      ],
      "text/markdown": [
       "-1.20397280432594"
      ],
      "text/plain": [
       "[1] -1.203973"
      ]
     },
     "metadata": {},
     "output_type": "display_data"
    }
   ],
   "source": [
    "log(0.3)"
   ]
  },
  {
   "cell_type": "code",
   "execution_count": 41,
   "metadata": {
    "vscode": {
     "languageId": "r"
    }
   },
   "outputs": [
    {
     "data": {
      "text/html": [
       "TRUE"
      ],
      "text/latex": [
       "TRUE"
      ],
      "text/markdown": [
       "TRUE"
      ],
      "text/plain": [
       "[1] TRUE"
      ]
     },
     "metadata": {},
     "output_type": "display_data"
    }
   ],
   "source": [
    "log(0.3) == log(0.3, base = exp(1))"
   ]
  },
  {
   "cell_type": "code",
   "execution_count": 43,
   "metadata": {
    "vscode": {
     "languageId": "r"
    }
   },
   "outputs": [
    {
     "data": {
      "text/html": [
       "0.3"
      ],
      "text/latex": [
       "0.3"
      ],
      "text/markdown": [
       "0.3"
      ],
      "text/plain": [
       "[1] 0.3"
      ]
     },
     "metadata": {},
     "output_type": "display_data"
    }
   ],
   "source": [
    "exp(log(0.3))"
   ]
  },
  {
   "cell_type": "code",
   "execution_count": 47,
   "metadata": {
    "vscode": {
     "languageId": "r"
    }
   },
   "outputs": [
    {
     "data": {
      "text/html": [
       "-4.23546322e-09"
      ],
      "text/latex": [
       "-4.23546322e-09"
      ],
      "text/markdown": [
       "-4.23546322e-09"
      ],
      "text/plain": [
       "[1] -4.235463e-09"
      ]
     },
     "metadata": {},
     "output_type": "display_data"
    }
   ],
   "source": [
    "-0.00000000423546322"
   ]
  },
  {
   "cell_type": "markdown",
   "metadata": {},
   "source": [
    "### Exercise 2.2"
   ]
  },
  {
   "cell_type": "markdown",
   "metadata": {},
   "source": [
    "<img src='exercise_2.2.jpg' width='700' />"
   ]
  },
  {
   "cell_type": "code",
   "execution_count": 48,
   "metadata": {
    "vscode": {
     "languageId": "r"
    }
   },
   "outputs": [],
   "source": [
    "a <- 3^2 * 4^(1/8)"
   ]
  },
  {
   "cell_type": "code",
   "execution_count": 49,
   "metadata": {
    "vscode": {
     "languageId": "r"
    }
   },
   "outputs": [
    {
     "data": {
      "text/html": [
       "4.59350387769291"
      ],
      "text/latex": [
       "4.59350387769291"
      ],
      "text/markdown": [
       "4.59350387769291"
      ],
      "text/plain": [
       "[1] 4.593504"
      ]
     },
     "metadata": {},
     "output_type": "display_data"
    }
   ],
   "source": [
    "a <- a / 2.33\n",
    "a"
   ]
  },
  {
   "cell_type": "code",
   "execution_count": 50,
   "metadata": {
    "vscode": {
     "languageId": "r"
    }
   },
   "outputs": [
    {
     "data": {
      "text/html": [
       "-8.2e-13"
      ],
      "text/latex": [
       "-8.2e-13"
      ],
      "text/markdown": [
       "-8.2e-13"
      ],
      "text/plain": [
       "[1] -8.2e-13"
      ]
     },
     "metadata": {},
     "output_type": "display_data"
    }
   ],
   "source": [
    "c <- -8.2E-13\n",
    "c"
   ]
  },
  {
   "cell_type": "code",
   "execution_count": 53,
   "metadata": {
    "vscode": {
     "languageId": "r"
    }
   },
   "outputs": [
    {
     "data": {
      "text/html": [
       "-3.76667317970819e-12"
      ],
      "text/latex": [
       "-3.76667317970819e-12"
      ],
      "text/markdown": [
       "-3.76667317970819e-12"
      ],
      "text/plain": [
       "[1] -3.766673e-12"
      ]
     },
     "metadata": {},
     "output_type": "display_data"
    }
   ],
   "source": [
    "a* c"
   ]
  },
  {
   "cell_type": "markdown",
   "metadata": {},
   "source": [
    "### Exercise 2.3"
   ]
  },
  {
   "cell_type": "markdown",
   "metadata": {},
   "source": [
    "<img src='exercise_2.3.jpg' width='700' />"
   ]
  },
  {
   "cell_type": "code",
   "execution_count": 1,
   "metadata": {
    "vscode": {
     "languageId": "r"
    }
   },
   "outputs": [
    {
     "data": {
      "text/html": [
       "<style>\n",
       ".list-inline {list-style: none; margin:0; padding: 0}\n",
       ".list-inline>li {display: inline-block}\n",
       ".list-inline>li:not(:last-child)::after {content: \"\\00b7\"; padding: 0 .5ex}\n",
       "</style>\n",
       "<ol class=list-inline><li>5</li><li>4.7</li><li>4.4</li><li>4.1</li><li>3.8</li><li>3.5</li><li>3.2</li><li>2.9</li><li>2.6</li><li>2.3</li><li>2</li><li>1.7</li><li>1.4</li><li>1.1</li><li>0.8</li><li>0.5</li><li>0.2</li><li>-0.0999999999999996</li><li>-0.399999999999999</li><li>-0.7</li><li>-1</li><li>-1.3</li><li>-1.6</li><li>-1.9</li><li>-2.2</li><li>-2.5</li><li>-2.8</li><li>-3.1</li><li>-3.4</li><li>-3.7</li><li>-4</li><li>-4.3</li><li>-4.6</li><li>-4.9</li><li>-5.2</li><li>-5.5</li><li>-5.8</li><li>-6.1</li><li>-6.4</li><li>-6.7</li><li>-7</li><li>-7.3</li><li>-7.6</li><li>-7.9</li><li>-8.2</li><li>-8.5</li><li>-8.8</li><li>-9.1</li><li>-9.4</li><li>-9.7</li><li>-10</li><li>-10.3</li><li>-10.6</li><li>-10.9</li></ol>\n"
      ],
      "text/latex": [
       "\\begin{enumerate*}\n",
       "\\item 5\n",
       "\\item 4.7\n",
       "\\item 4.4\n",
       "\\item 4.1\n",
       "\\item 3.8\n",
       "\\item 3.5\n",
       "\\item 3.2\n",
       "\\item 2.9\n",
       "\\item 2.6\n",
       "\\item 2.3\n",
       "\\item 2\n",
       "\\item 1.7\n",
       "\\item 1.4\n",
       "\\item 1.1\n",
       "\\item 0.8\n",
       "\\item 0.5\n",
       "\\item 0.2\n",
       "\\item -0.0999999999999996\n",
       "\\item -0.399999999999999\n",
       "\\item -0.7\n",
       "\\item -1\n",
       "\\item -1.3\n",
       "\\item -1.6\n",
       "\\item -1.9\n",
       "\\item -2.2\n",
       "\\item -2.5\n",
       "\\item -2.8\n",
       "\\item -3.1\n",
       "\\item -3.4\n",
       "\\item -3.7\n",
       "\\item -4\n",
       "\\item -4.3\n",
       "\\item -4.6\n",
       "\\item -4.9\n",
       "\\item -5.2\n",
       "\\item -5.5\n",
       "\\item -5.8\n",
       "\\item -6.1\n",
       "\\item -6.4\n",
       "\\item -6.7\n",
       "\\item -7\n",
       "\\item -7.3\n",
       "\\item -7.6\n",
       "\\item -7.9\n",
       "\\item -8.2\n",
       "\\item -8.5\n",
       "\\item -8.8\n",
       "\\item -9.1\n",
       "\\item -9.4\n",
       "\\item -9.7\n",
       "\\item -10\n",
       "\\item -10.3\n",
       "\\item -10.6\n",
       "\\item -10.9\n",
       "\\end{enumerate*}\n"
      ],
      "text/markdown": [
       "1. 5\n",
       "2. 4.7\n",
       "3. 4.4\n",
       "4. 4.1\n",
       "5. 3.8\n",
       "6. 3.5\n",
       "7. 3.2\n",
       "8. 2.9\n",
       "9. 2.6\n",
       "10. 2.3\n",
       "11. 2\n",
       "12. 1.7\n",
       "13. 1.4\n",
       "14. 1.1\n",
       "15. 0.8\n",
       "16. 0.5\n",
       "17. 0.2\n",
       "18. -0.0999999999999996\n",
       "19. -0.399999999999999\n",
       "20. -0.7\n",
       "21. -1\n",
       "22. -1.3\n",
       "23. -1.6\n",
       "24. -1.9\n",
       "25. -2.2\n",
       "26. -2.5\n",
       "27. -2.8\n",
       "28. -3.1\n",
       "29. -3.4\n",
       "30. -3.7\n",
       "31. -4\n",
       "32. -4.3\n",
       "33. -4.6\n",
       "34. -4.9\n",
       "35. -5.2\n",
       "36. -5.5\n",
       "37. -5.8\n",
       "38. -6.1\n",
       "39. -6.4\n",
       "40. -6.7\n",
       "41. -7\n",
       "42. -7.3\n",
       "43. -7.6\n",
       "44. -7.9\n",
       "45. -8.2\n",
       "46. -8.5\n",
       "47. -8.8\n",
       "48. -9.1\n",
       "49. -9.4\n",
       "50. -9.7\n",
       "51. -10\n",
       "52. -10.3\n",
       "53. -10.6\n",
       "54. -10.9\n",
       "\n",
       "\n"
      ],
      "text/plain": [
       " [1]   5.0   4.7   4.4   4.1   3.8   3.5   3.2   2.9   2.6   2.3   2.0   1.7\n",
       "[13]   1.4   1.1   0.8   0.5   0.2  -0.1  -0.4  -0.7  -1.0  -1.3  -1.6  -1.9\n",
       "[25]  -2.2  -2.5  -2.8  -3.1  -3.4  -3.7  -4.0  -4.3  -4.6  -4.9  -5.2  -5.5\n",
       "[37]  -5.8  -6.1  -6.4  -6.7  -7.0  -7.3  -7.6  -7.9  -8.2  -8.5  -8.8  -9.1\n",
       "[49]  -9.4  -9.7 -10.0 -10.3 -10.6 -10.9"
      ]
     },
     "metadata": {},
     "output_type": "display_data"
    }
   ],
   "source": [
    "a <- seq(5,-11, -0.3)\n",
    "a"
   ]
  },
  {
   "cell_type": "code",
   "execution_count": 3,
   "metadata": {
    "vscode": {
     "languageId": "r"
    }
   },
   "outputs": [
    {
     "data": {
      "text/html": [
       "<style>\n",
       ".list-inline {list-style: none; margin:0; padding: 0}\n",
       ".list-inline>li {display: inline-block}\n",
       ".list-inline>li:not(:last-child)::after {content: \"\\00b7\"; padding: 0 .5ex}\n",
       "</style>\n",
       "<ol class=list-inline><li>-10.9</li><li>-10.6</li><li>-10.3</li><li>-10</li><li>-9.7</li><li>-9.4</li><li>-9.1</li><li>-8.8</li><li>-8.5</li><li>-8.2</li><li>-7.9</li><li>-7.6</li><li>-7.3</li><li>-7</li><li>-6.7</li><li>-6.4</li><li>-6.1</li><li>-5.8</li><li>-5.5</li><li>-5.2</li><li>-4.9</li><li>-4.6</li><li>-4.3</li><li>-4</li><li>-3.7</li><li>-3.4</li><li>-3.1</li><li>-2.8</li><li>-2.5</li><li>-2.2</li><li>-1.9</li><li>-1.6</li><li>-1.3</li><li>-1</li><li>-0.7</li><li>-0.399999999999999</li><li>-0.0999999999999996</li><li>0.2</li><li>0.5</li><li>0.8</li><li>1.1</li><li>1.4</li><li>1.7</li><li>2</li><li>2.3</li><li>2.6</li><li>2.9</li><li>3.2</li><li>3.5</li><li>3.8</li><li>4.1</li><li>4.4</li><li>4.7</li><li>5</li></ol>\n"
      ],
      "text/latex": [
       "\\begin{enumerate*}\n",
       "\\item -10.9\n",
       "\\item -10.6\n",
       "\\item -10.3\n",
       "\\item -10\n",
       "\\item -9.7\n",
       "\\item -9.4\n",
       "\\item -9.1\n",
       "\\item -8.8\n",
       "\\item -8.5\n",
       "\\item -8.2\n",
       "\\item -7.9\n",
       "\\item -7.6\n",
       "\\item -7.3\n",
       "\\item -7\n",
       "\\item -6.7\n",
       "\\item -6.4\n",
       "\\item -6.1\n",
       "\\item -5.8\n",
       "\\item -5.5\n",
       "\\item -5.2\n",
       "\\item -4.9\n",
       "\\item -4.6\n",
       "\\item -4.3\n",
       "\\item -4\n",
       "\\item -3.7\n",
       "\\item -3.4\n",
       "\\item -3.1\n",
       "\\item -2.8\n",
       "\\item -2.5\n",
       "\\item -2.2\n",
       "\\item -1.9\n",
       "\\item -1.6\n",
       "\\item -1.3\n",
       "\\item -1\n",
       "\\item -0.7\n",
       "\\item -0.399999999999999\n",
       "\\item -0.0999999999999996\n",
       "\\item 0.2\n",
       "\\item 0.5\n",
       "\\item 0.8\n",
       "\\item 1.1\n",
       "\\item 1.4\n",
       "\\item 1.7\n",
       "\\item 2\n",
       "\\item 2.3\n",
       "\\item 2.6\n",
       "\\item 2.9\n",
       "\\item 3.2\n",
       "\\item 3.5\n",
       "\\item 3.8\n",
       "\\item 4.1\n",
       "\\item 4.4\n",
       "\\item 4.7\n",
       "\\item 5\n",
       "\\end{enumerate*}\n"
      ],
      "text/markdown": [
       "1. -10.9\n",
       "2. -10.6\n",
       "3. -10.3\n",
       "4. -10\n",
       "5. -9.7\n",
       "6. -9.4\n",
       "7. -9.1\n",
       "8. -8.8\n",
       "9. -8.5\n",
       "10. -8.2\n",
       "11. -7.9\n",
       "12. -7.6\n",
       "13. -7.3\n",
       "14. -7\n",
       "15. -6.7\n",
       "16. -6.4\n",
       "17. -6.1\n",
       "18. -5.8\n",
       "19. -5.5\n",
       "20. -5.2\n",
       "21. -4.9\n",
       "22. -4.6\n",
       "23. -4.3\n",
       "24. -4\n",
       "25. -3.7\n",
       "26. -3.4\n",
       "27. -3.1\n",
       "28. -2.8\n",
       "29. -2.5\n",
       "30. -2.2\n",
       "31. -1.9\n",
       "32. -1.6\n",
       "33. -1.3\n",
       "34. -1\n",
       "35. -0.7\n",
       "36. -0.399999999999999\n",
       "37. -0.0999999999999996\n",
       "38. 0.2\n",
       "39. 0.5\n",
       "40. 0.8\n",
       "41. 1.1\n",
       "42. 1.4\n",
       "43. 1.7\n",
       "44. 2\n",
       "45. 2.3\n",
       "46. 2.6\n",
       "47. 2.9\n",
       "48. 3.2\n",
       "49. 3.5\n",
       "50. 3.8\n",
       "51. 4.1\n",
       "52. 4.4\n",
       "53. 4.7\n",
       "54. 5\n",
       "\n",
       "\n"
      ],
      "text/plain": [
       " [1] -10.9 -10.6 -10.3 -10.0  -9.7  -9.4  -9.1  -8.8  -8.5  -8.2  -7.9  -7.6\n",
       "[13]  -7.3  -7.0  -6.7  -6.4  -6.1  -5.8  -5.5  -5.2  -4.9  -4.6  -4.3  -4.0\n",
       "[25]  -3.7  -3.4  -3.1  -2.8  -2.5  -2.2  -1.9  -1.6  -1.3  -1.0  -0.7  -0.4\n",
       "[37]  -0.1   0.2   0.5   0.8   1.1   1.4   1.7   2.0   2.3   2.6   2.9   3.2\n",
       "[49]   3.5   3.8   4.1   4.4   4.7   5.0"
      ]
     },
     "metadata": {},
     "output_type": "display_data"
    }
   ],
   "source": [
    "a <- sort(a)\n",
    "a"
   ]
  },
  {
   "cell_type": "code",
   "execution_count": 4,
   "metadata": {
    "vscode": {
     "languageId": "r"
    }
   },
   "outputs": [
    {
     "data": {
      "text/html": [
       "<style>\n",
       ".list-inline {list-style: none; margin:0; padding: 0}\n",
       ".list-inline>li {display: inline-block}\n",
       ".list-inline>li:not(:last-child)::after {content: \"\\00b7\"; padding: 0 .5ex}\n",
       "</style>\n",
       "<ol class=list-inline><li>-1</li><li>-1</li><li>-1</li><li>-1</li><li>-1</li><li>-1</li><li>-1</li><li>-1</li><li>-1</li><li>-1</li><li>3</li><li>3</li><li>3</li><li>3</li><li>3</li><li>3</li><li>3</li><li>3</li><li>3</li><li>3</li><li>-5</li><li>-5</li><li>-5</li><li>-5</li><li>-5</li><li>-5</li><li>-5</li><li>-5</li><li>-5</li><li>-5</li><li>7</li><li>7</li><li>7</li><li>7</li><li>7</li><li>7</li><li>7</li><li>7</li><li>7</li><li>7</li><li>-9</li><li>-9</li><li>-9</li><li>-9</li><li>-9</li><li>-9</li><li>-9</li><li>-9</li><li>-9</li><li>-9</li><li>-1</li><li>-1</li><li>-1</li><li>-1</li><li>-1</li><li>-1</li><li>-1</li><li>-1</li><li>-1</li><li>-1</li><li>3</li><li>3</li><li>3</li><li>3</li><li>3</li><li>3</li><li>3</li><li>3</li><li>3</li><li>3</li><li>-5</li><li>-5</li><li>-5</li><li>-5</li><li>-5</li><li>-5</li><li>-5</li><li>-5</li><li>-5</li><li>-5</li><li>7</li><li>7</li><li>7</li><li>7</li><li>7</li><li>7</li><li>7</li><li>7</li><li>7</li><li>7</li><li>-9</li><li>-9</li><li>-9</li><li>-9</li><li>-9</li><li>-9</li><li>-9</li><li>-9</li><li>-9</li><li>-9</li></ol>\n"
      ],
      "text/latex": [
       "\\begin{enumerate*}\n",
       "\\item -1\n",
       "\\item -1\n",
       "\\item -1\n",
       "\\item -1\n",
       "\\item -1\n",
       "\\item -1\n",
       "\\item -1\n",
       "\\item -1\n",
       "\\item -1\n",
       "\\item -1\n",
       "\\item 3\n",
       "\\item 3\n",
       "\\item 3\n",
       "\\item 3\n",
       "\\item 3\n",
       "\\item 3\n",
       "\\item 3\n",
       "\\item 3\n",
       "\\item 3\n",
       "\\item 3\n",
       "\\item -5\n",
       "\\item -5\n",
       "\\item -5\n",
       "\\item -5\n",
       "\\item -5\n",
       "\\item -5\n",
       "\\item -5\n",
       "\\item -5\n",
       "\\item -5\n",
       "\\item -5\n",
       "\\item 7\n",
       "\\item 7\n",
       "\\item 7\n",
       "\\item 7\n",
       "\\item 7\n",
       "\\item 7\n",
       "\\item 7\n",
       "\\item 7\n",
       "\\item 7\n",
       "\\item 7\n",
       "\\item -9\n",
       "\\item -9\n",
       "\\item -9\n",
       "\\item -9\n",
       "\\item -9\n",
       "\\item -9\n",
       "\\item -9\n",
       "\\item -9\n",
       "\\item -9\n",
       "\\item -9\n",
       "\\item -1\n",
       "\\item -1\n",
       "\\item -1\n",
       "\\item -1\n",
       "\\item -1\n",
       "\\item -1\n",
       "\\item -1\n",
       "\\item -1\n",
       "\\item -1\n",
       "\\item -1\n",
       "\\item 3\n",
       "\\item 3\n",
       "\\item 3\n",
       "\\item 3\n",
       "\\item 3\n",
       "\\item 3\n",
       "\\item 3\n",
       "\\item 3\n",
       "\\item 3\n",
       "\\item 3\n",
       "\\item -5\n",
       "\\item -5\n",
       "\\item -5\n",
       "\\item -5\n",
       "\\item -5\n",
       "\\item -5\n",
       "\\item -5\n",
       "\\item -5\n",
       "\\item -5\n",
       "\\item -5\n",
       "\\item 7\n",
       "\\item 7\n",
       "\\item 7\n",
       "\\item 7\n",
       "\\item 7\n",
       "\\item 7\n",
       "\\item 7\n",
       "\\item 7\n",
       "\\item 7\n",
       "\\item 7\n",
       "\\item -9\n",
       "\\item -9\n",
       "\\item -9\n",
       "\\item -9\n",
       "\\item -9\n",
       "\\item -9\n",
       "\\item -9\n",
       "\\item -9\n",
       "\\item -9\n",
       "\\item -9\n",
       "\\end{enumerate*}\n"
      ],
      "text/markdown": [
       "1. -1\n",
       "2. -1\n",
       "3. -1\n",
       "4. -1\n",
       "5. -1\n",
       "6. -1\n",
       "7. -1\n",
       "8. -1\n",
       "9. -1\n",
       "10. -1\n",
       "11. 3\n",
       "12. 3\n",
       "13. 3\n",
       "14. 3\n",
       "15. 3\n",
       "16. 3\n",
       "17. 3\n",
       "18. 3\n",
       "19. 3\n",
       "20. 3\n",
       "21. -5\n",
       "22. -5\n",
       "23. -5\n",
       "24. -5\n",
       "25. -5\n",
       "26. -5\n",
       "27. -5\n",
       "28. -5\n",
       "29. -5\n",
       "30. -5\n",
       "31. 7\n",
       "32. 7\n",
       "33. 7\n",
       "34. 7\n",
       "35. 7\n",
       "36. 7\n",
       "37. 7\n",
       "38. 7\n",
       "39. 7\n",
       "40. 7\n",
       "41. -9\n",
       "42. -9\n",
       "43. -9\n",
       "44. -9\n",
       "45. -9\n",
       "46. -9\n",
       "47. -9\n",
       "48. -9\n",
       "49. -9\n",
       "50. -9\n",
       "51. -1\n",
       "52. -1\n",
       "53. -1\n",
       "54. -1\n",
       "55. -1\n",
       "56. -1\n",
       "57. -1\n",
       "58. -1\n",
       "59. -1\n",
       "60. -1\n",
       "61. 3\n",
       "62. 3\n",
       "63. 3\n",
       "64. 3\n",
       "65. 3\n",
       "66. 3\n",
       "67. 3\n",
       "68. 3\n",
       "69. 3\n",
       "70. 3\n",
       "71. -5\n",
       "72. -5\n",
       "73. -5\n",
       "74. -5\n",
       "75. -5\n",
       "76. -5\n",
       "77. -5\n",
       "78. -5\n",
       "79. -5\n",
       "80. -5\n",
       "81. 7\n",
       "82. 7\n",
       "83. 7\n",
       "84. 7\n",
       "85. 7\n",
       "86. 7\n",
       "87. 7\n",
       "88. 7\n",
       "89. 7\n",
       "90. 7\n",
       "91. -9\n",
       "92. -9\n",
       "93. -9\n",
       "94. -9\n",
       "95. -9\n",
       "96. -9\n",
       "97. -9\n",
       "98. -9\n",
       "99. -9\n",
       "100. -9\n",
       "\n",
       "\n"
      ],
      "text/plain": [
       "  [1] -1 -1 -1 -1 -1 -1 -1 -1 -1 -1  3  3  3  3  3  3  3  3  3  3 -5 -5 -5 -5 -5\n",
       " [26] -5 -5 -5 -5 -5  7  7  7  7  7  7  7  7  7  7 -9 -9 -9 -9 -9 -9 -9 -9 -9 -9\n",
       " [51] -1 -1 -1 -1 -1 -1 -1 -1 -1 -1  3  3  3  3  3  3  3  3  3  3 -5 -5 -5 -5 -5\n",
       " [76] -5 -5 -5 -5 -5  7  7  7  7  7  7  7  7  7  7 -9 -9 -9 -9 -9 -9 -9 -9 -9 -9"
      ]
     },
     "metadata": {},
     "output_type": "display_data"
    }
   ],
   "source": [
    "c <- rep(c(-1, 3, -5, 7, -9), times = 2, each = 10)\n",
    "c"
   ]
  },
  {
   "cell_type": "code",
   "execution_count": 9,
   "metadata": {
    "vscode": {
     "languageId": "r"
    }
   },
   "outputs": [
    {
     "data": {
      "text/html": [
       "<style>\n",
       ".list-inline {list-style: none; margin:0; padding: 0}\n",
       ".list-inline>li {display: inline-block}\n",
       ".list-inline>li:not(:last-child)::after {content: \"\\00b7\"; padding: 0 .5ex}\n",
       "</style>\n",
       "<ol class=list-inline><li>6</li><li>7</li><li>8</li><li>9</li><li>10</li><li>11</li><li>12</li><li>5.3</li><li>5.3</li><li>5.3</li><li>-3</li><li>102</li><li>101.75</li><li>101.5</li><li>101.25</li><li>101</li><li>100.75</li><li>100.5</li><li>100.25</li><li>100</li></ol>\n"
      ],
      "text/latex": [
       "\\begin{enumerate*}\n",
       "\\item 6\n",
       "\\item 7\n",
       "\\item 8\n",
       "\\item 9\n",
       "\\item 10\n",
       "\\item 11\n",
       "\\item 12\n",
       "\\item 5.3\n",
       "\\item 5.3\n",
       "\\item 5.3\n",
       "\\item -3\n",
       "\\item 102\n",
       "\\item 101.75\n",
       "\\item 101.5\n",
       "\\item 101.25\n",
       "\\item 101\n",
       "\\item 100.75\n",
       "\\item 100.5\n",
       "\\item 100.25\n",
       "\\item 100\n",
       "\\end{enumerate*}\n"
      ],
      "text/markdown": [
       "1. 6\n",
       "2. 7\n",
       "3. 8\n",
       "4. 9\n",
       "5. 10\n",
       "6. 11\n",
       "7. 12\n",
       "8. 5.3\n",
       "9. 5.3\n",
       "10. 5.3\n",
       "11. -3\n",
       "12. 102\n",
       "13. 101.75\n",
       "14. 101.5\n",
       "15. 101.25\n",
       "16. 101\n",
       "17. 100.75\n",
       "18. 100.5\n",
       "19. 100.25\n",
       "20. 100\n",
       "\n",
       "\n"
      ],
      "text/plain": [
       " [1]   6.00   7.00   8.00   9.00  10.00  11.00  12.00   5.30   5.30   5.30\n",
       "[11]  -3.00 102.00 101.75 101.50 101.25 101.00 100.75 100.50 100.25 100.00"
      ]
     },
     "metadata": {},
     "output_type": "display_data"
    }
   ],
   "source": [
    "d <- c(\n",
    "    6:12,\n",
    "    rep(5.3, times = 3),\n",
    "    -3,\n",
    "    seq(102, length(c), length.out = 9)\n",
    ")\n",
    "d"
   ]
  },
  {
   "cell_type": "code",
   "execution_count": 10,
   "metadata": {
    "vscode": {
     "languageId": "r"
    }
   },
   "outputs": [
    {
     "data": {
      "text/html": [
       "20"
      ],
      "text/latex": [
       "20"
      ],
      "text/markdown": [
       "20"
      ],
      "text/plain": [
       "[1] 20"
      ]
     },
     "metadata": {},
     "output_type": "display_data"
    }
   ],
   "source": [
    "length(d)"
   ]
  },
  {
   "cell_type": "markdown",
   "metadata": {},
   "source": [
    "### Exercise 2.4"
   ]
  },
  {
   "cell_type": "markdown",
   "metadata": {},
   "source": [
    "<img src='exercise_2.4.jpg' width='700' />"
   ]
  },
  {
   "cell_type": "code",
   "execution_count": 16,
   "metadata": {
    "vscode": {
     "languageId": "r"
    }
   },
   "outputs": [
    {
     "data": {
      "text/html": [
       "<style>\n",
       ".list-inline {list-style: none; margin:0; padding: 0}\n",
       ".list-inline>li {display: inline-block}\n",
       ".list-inline>li:not(:last-child)::after {content: \"\\00b7\"; padding: 0 .5ex}\n",
       "</style>\n",
       "<ol class=list-inline><li>5</li><li>4.6</li><li>4.2</li><li>3.8</li><li>3.4</li><li>3</li><li>2</li><li>-5.1</li><li>-33</li><li>2</li><li>-5.1</li><li>-33</li><li>2.16666666666667</li></ol>\n"
      ],
      "text/latex": [
       "\\begin{enumerate*}\n",
       "\\item 5\n",
       "\\item 4.6\n",
       "\\item 4.2\n",
       "\\item 3.8\n",
       "\\item 3.4\n",
       "\\item 3\n",
       "\\item 2\n",
       "\\item -5.1\n",
       "\\item -33\n",
       "\\item 2\n",
       "\\item -5.1\n",
       "\\item -33\n",
       "\\item 2.16666666666667\n",
       "\\end{enumerate*}\n"
      ],
      "text/markdown": [
       "1. 5\n",
       "2. 4.6\n",
       "3. 4.2\n",
       "4. 3.8\n",
       "5. 3.4\n",
       "6. 3\n",
       "7. 2\n",
       "8. -5.1\n",
       "9. -33\n",
       "10. 2\n",
       "11. -5.1\n",
       "12. -33\n",
       "13. 2.16666666666667\n",
       "\n",
       "\n"
      ],
      "text/plain": [
       " [1]   5.000000   4.600000   4.200000   3.800000   3.400000   3.000000\n",
       " [7]   2.000000  -5.100000 -33.000000   2.000000  -5.100000 -33.000000\n",
       "[13]   2.166667"
      ]
     },
     "metadata": {},
     "output_type": "display_data"
    }
   ],
   "source": [
    "a <- c(\n",
    "    seq(5,3, length.out = 6),\n",
    "    rep(c(2,-5.1,-33), times = 2),\n",
    "    7/42 + 2\n",
    ")\n",
    "a"
   ]
  },
  {
   "cell_type": "code",
   "execution_count": 6,
   "metadata": {
    "vscode": {
     "languageId": "r"
    }
   },
   "outputs": [
    {
     "data": {
      "text/html": [
       "<style>\n",
       ".list-inline {list-style: none; margin:0; padding: 0}\n",
       ".list-inline>li {display: inline-block}\n",
       ".list-inline>li:not(:last-child)::after {content: \"\\00b7\"; padding: 0 .5ex}\n",
       "</style>\n",
       "<ol class=list-inline><li>5</li><li>2.16666666666667</li></ol>\n"
      ],
      "text/latex": [
       "\\begin{enumerate*}\n",
       "\\item 5\n",
       "\\item 2.16666666666667\n",
       "\\end{enumerate*}\n"
      ],
      "text/markdown": [
       "1. 5\n",
       "2. 2.16666666666667\n",
       "\n",
       "\n"
      ],
      "text/plain": [
       "[1] 5.000000 2.166667"
      ]
     },
     "metadata": {},
     "output_type": "display_data"
    }
   ],
   "source": [
    "b <- a[c(1,length(a))]\n",
    "b\n"
   ]
  },
  {
   "cell_type": "code",
   "execution_count": 7,
   "metadata": {
    "vscode": {
     "languageId": "r"
    }
   },
   "outputs": [
    {
     "data": {
      "text/html": [
       "<style>\n",
       ".list-inline {list-style: none; margin:0; padding: 0}\n",
       ".list-inline>li {display: inline-block}\n",
       ".list-inline>li:not(:last-child)::after {content: \"\\00b7\"; padding: 0 .5ex}\n",
       "</style>\n",
       "<ol class=list-inline><li>4.6</li><li>4.2</li><li>3.8</li><li>3.4</li><li>3</li><li>2</li><li>-5.1</li><li>-33</li><li>2</li><li>-5.1</li><li>-33</li></ol>\n"
      ],
      "text/latex": [
       "\\begin{enumerate*}\n",
       "\\item 4.6\n",
       "\\item 4.2\n",
       "\\item 3.8\n",
       "\\item 3.4\n",
       "\\item 3\n",
       "\\item 2\n",
       "\\item -5.1\n",
       "\\item -33\n",
       "\\item 2\n",
       "\\item -5.1\n",
       "\\item -33\n",
       "\\end{enumerate*}\n"
      ],
      "text/markdown": [
       "1. 4.6\n",
       "2. 4.2\n",
       "3. 3.8\n",
       "4. 3.4\n",
       "5. 3\n",
       "6. 2\n",
       "7. -5.1\n",
       "8. -33\n",
       "9. 2\n",
       "10. -5.1\n",
       "11. -33\n",
       "\n",
       "\n"
      ],
      "text/plain": [
       " [1]   4.6   4.2   3.8   3.4   3.0   2.0  -5.1 -33.0   2.0  -5.1 -33.0"
      ]
     },
     "metadata": {},
     "output_type": "display_data"
    }
   ],
   "source": [
    "c <- a[-c(1, length(a))]\n",
    "c"
   ]
  },
  {
   "cell_type": "code",
   "execution_count": 9,
   "metadata": {
    "vscode": {
     "languageId": "r"
    }
   },
   "outputs": [],
   "source": [
    "d <- c(b[1], c, b[2])"
   ]
  },
  {
   "cell_type": "code",
   "execution_count": 11,
   "metadata": {
    "vscode": {
     "languageId": "r"
    }
   },
   "outputs": [
    {
     "data": {
      "text/html": [
       "TRUE"
      ],
      "text/latex": [
       "TRUE"
      ],
      "text/markdown": [
       "TRUE"
      ],
      "text/plain": [
       "[1] TRUE"
      ]
     },
     "metadata": {},
     "output_type": "display_data"
    }
   ],
   "source": [
    "identical(d, a)"
   ]
  },
  {
   "cell_type": "code",
   "execution_count": 17,
   "metadata": {
    "vscode": {
     "languageId": "r"
    }
   },
   "outputs": [
    {
     "data": {
      "text/html": [
       "<style>\n",
       ".list-inline {list-style: none; margin:0; padding: 0}\n",
       ".list-inline>li {display: inline-block}\n",
       ".list-inline>li:not(:last-child)::after {content: \"\\00b7\"; padding: 0 .5ex}\n",
       "</style>\n",
       "<ol class=list-inline><li>-33</li><li>-33</li><li>-5.1</li><li>-5.1</li><li>2</li><li>2</li><li>2.16666666666667</li><li>3</li><li>3.4</li><li>3.8</li><li>4.2</li><li>4.6</li><li>5</li></ol>\n"
      ],
      "text/latex": [
       "\\begin{enumerate*}\n",
       "\\item -33\n",
       "\\item -33\n",
       "\\item -5.1\n",
       "\\item -5.1\n",
       "\\item 2\n",
       "\\item 2\n",
       "\\item 2.16666666666667\n",
       "\\item 3\n",
       "\\item 3.4\n",
       "\\item 3.8\n",
       "\\item 4.2\n",
       "\\item 4.6\n",
       "\\item 5\n",
       "\\end{enumerate*}\n"
      ],
      "text/markdown": [
       "1. -33\n",
       "2. -33\n",
       "3. -5.1\n",
       "4. -5.1\n",
       "5. 2\n",
       "6. 2\n",
       "7. 2.16666666666667\n",
       "8. 3\n",
       "9. 3.4\n",
       "10. 3.8\n",
       "11. 4.2\n",
       "12. 4.6\n",
       "13. 5\n",
       "\n",
       "\n"
      ],
      "text/plain": [
       " [1] -33.000000 -33.000000  -5.100000  -5.100000   2.000000   2.000000\n",
       " [7]   2.166667   3.000000   3.400000   3.800000   4.200000   4.600000\n",
       "[13]   5.000000"
      ]
     },
     "metadata": {},
     "output_type": "display_data"
    }
   ],
   "source": [
    "a <- sort(a)\n",
    "a"
   ]
  },
  {
   "cell_type": "code",
   "execution_count": 18,
   "metadata": {
    "vscode": {
     "languageId": "r"
    }
   },
   "outputs": [
    {
     "data": {
      "text/html": [
       "TRUE"
      ],
      "text/latex": [
       "TRUE"
      ],
      "text/markdown": [
       "TRUE"
      ],
      "text/plain": [
       "[1] TRUE"
      ]
     },
     "metadata": {},
     "output_type": "display_data"
    }
   ],
   "source": [
    "identical(\n",
    "    a[length(a):1],\n",
    "    sort(a, decreasing = T)\n",
    ")"
   ]
  },
  {
   "cell_type": "code",
   "execution_count": 21,
   "metadata": {
    "vscode": {
     "languageId": "r"
    }
   },
   "outputs": [
    {
     "data": {
      "text/html": [
       "<style>\n",
       ".list-inline {list-style: none; margin:0; padding: 0}\n",
       ".list-inline>li {display: inline-block}\n",
       ".list-inline>li:not(:last-child)::after {content: \"\\00b7\"; padding: 0 .5ex}\n",
       "</style>\n",
       "<ol class=list-inline><li>3.8</li><li>3.8</li><li>3.8</li><li>2</li><li>2</li><li>2</li><li>2</li><li>-33</li></ol>\n"
      ],
      "text/latex": [
       "\\begin{enumerate*}\n",
       "\\item 3.8\n",
       "\\item 3.8\n",
       "\\item 3.8\n",
       "\\item 2\n",
       "\\item 2\n",
       "\\item 2\n",
       "\\item 2\n",
       "\\item -33\n",
       "\\end{enumerate*}\n"
      ],
      "text/markdown": [
       "1. 3.8\n",
       "2. 3.8\n",
       "3. 3.8\n",
       "4. 2\n",
       "5. 2\n",
       "6. 2\n",
       "7. 2\n",
       "8. -33\n",
       "\n",
       "\n"
      ],
      "text/plain": [
       "[1]   3.8   3.8   3.8   2.0   2.0   2.0   2.0 -33.0"
      ]
     },
     "metadata": {},
     "output_type": "display_data"
    }
   ],
   "source": [
    "g <- rep(c(c[3], c[6], c[length(c)]), times = c(3,4,1))\n",
    "g"
   ]
  },
  {
   "cell_type": "code",
   "execution_count": 25,
   "metadata": {
    "vscode": {
     "languageId": "r"
    }
   },
   "outputs": [
    {
     "data": {
      "text/html": [
       "<style>\n",
       ".list-inline {list-style: none; margin:0; padding: 0}\n",
       ".list-inline>li {display: inline-block}\n",
       ".list-inline>li:not(:last-child)::after {content: \"\\00b7\"; padding: 0 .5ex}\n",
       "</style>\n",
       "<ol class=list-inline><li>99</li><li>4.2</li><li>3.8</li><li>3.4</li><li>98</li><li>97</li><li>96</li><li>-33</li><li>2</li><li>-5.1</li><li>95</li></ol>\n"
      ],
      "text/latex": [
       "\\begin{enumerate*}\n",
       "\\item 99\n",
       "\\item 4.2\n",
       "\\item 3.8\n",
       "\\item 3.4\n",
       "\\item 98\n",
       "\\item 97\n",
       "\\item 96\n",
       "\\item -33\n",
       "\\item 2\n",
       "\\item -5.1\n",
       "\\item 95\n",
       "\\end{enumerate*}\n"
      ],
      "text/markdown": [
       "1. 99\n",
       "2. 4.2\n",
       "3. 3.8\n",
       "4. 3.4\n",
       "5. 98\n",
       "6. 97\n",
       "7. 96\n",
       "8. -33\n",
       "9. 2\n",
       "10. -5.1\n",
       "11. 95\n",
       "\n",
       "\n"
      ],
      "text/plain": [
       " [1]  99.0   4.2   3.8   3.4  98.0  97.0  96.0 -33.0   2.0  -5.1  95.0"
      ]
     },
     "metadata": {},
     "output_type": "display_data"
    }
   ],
   "source": [
    "h <- c\n",
    "h[c(1,5:7,length(h))] <- 99:95\n",
    "h"
   ]
  },
  {
   "cell_type": "markdown",
   "metadata": {},
   "source": [
    "### Exercise 2.5"
   ]
  },
  {
   "cell_type": "markdown",
   "metadata": {},
   "source": [
    "<img src='exercise_2.5.jpg' width='700' />"
   ]
  },
  {
   "cell_type": "code",
   "execution_count": 30,
   "metadata": {
    "vscode": {
     "languageId": "r"
    }
   },
   "outputs": [
    {
     "data": {
      "text/html": [
       "<style>\n",
       ".list-inline {list-style: none; margin:0; padding: 0}\n",
       ".list-inline>li {display: inline-block}\n",
       ".list-inline>li:not(:last-child)::after {content: \"\\00b7\"; padding: 0 .5ex}\n",
       "</style>\n",
       "<ol class=list-inline><li>1</li><li>1</li><li>1</li><li>1</li><li>1</li><li>1</li><li>1</li><li>1</li><li>1</li></ol>\n"
      ],
      "text/latex": [
       "\\begin{enumerate*}\n",
       "\\item 1\n",
       "\\item 1\n",
       "\\item 1\n",
       "\\item 1\n",
       "\\item 1\n",
       "\\item 1\n",
       "\\item 1\n",
       "\\item 1\n",
       "\\item 1\n",
       "\\end{enumerate*}\n"
      ],
      "text/markdown": [
       "1. 1\n",
       "2. 1\n",
       "3. 1\n",
       "4. 1\n",
       "5. 1\n",
       "6. 1\n",
       "7. 1\n",
       "8. 1\n",
       "9. 1\n",
       "\n",
       "\n"
      ],
      "text/plain": [
       "[1] 1 1 1 1 1 1 1 1 1"
      ]
     },
     "metadata": {},
     "output_type": "display_data"
    }
   ],
   "source": [
    "a <- c(2,0.5,1,2,0.5,1,2,0.5,1)\n",
    "a[1:length(a)] <- c(1,1,1)\n",
    "a"
   ]
  },
  {
   "cell_type": "code",
   "execution_count": 31,
   "metadata": {
    "vscode": {
     "languageId": "r"
    }
   },
   "outputs": [
    {
     "data": {
      "text/html": [
       "<style>\n",
       ".list-inline {list-style: none; margin:0; padding: 0}\n",
       ".list-inline>li {display: inline-block}\n",
       ".list-inline>li:not(:last-child)::after {content: \"\\00b7\"; padding: 0 .5ex}\n",
       "</style>\n",
       "<ol class=list-inline><li>7.22222222222222</li><li>25</li><li>-6.66666666666667</li><li>-7.22222222222222</li><li>38.3333333333333</li><li>48.8888888888889</li><li>100</li></ol>\n"
      ],
      "text/latex": [
       "\\begin{enumerate*}\n",
       "\\item 7.22222222222222\n",
       "\\item 25\n",
       "\\item -6.66666666666667\n",
       "\\item -7.22222222222222\n",
       "\\item 38.3333333333333\n",
       "\\item 48.8888888888889\n",
       "\\item 100\n",
       "\\end{enumerate*}\n"
      ],
      "text/markdown": [
       "1. 7.22222222222222\n",
       "2. 25\n",
       "3. -6.66666666666667\n",
       "4. -7.22222222222222\n",
       "5. 38.3333333333333\n",
       "6. 48.8888888888889\n",
       "7. 100\n",
       "\n",
       "\n"
      ],
      "text/plain": [
       "[1]   7.222222  25.000000  -6.666667  -7.222222  38.333333  48.888889 100.000000"
      ]
     },
     "metadata": {},
     "output_type": "display_data"
    }
   ],
   "source": [
    "F <- c(45, 77, 20, 19, 101, 120, 212)\n",
    "C <- 5/9 * (F-32)\n",
    "C"
   ]
  },
  {
   "cell_type": "code",
   "execution_count": 34,
   "metadata": {
    "vscode": {
     "languageId": "r"
    }
   },
   "outputs": [
    {
     "data": {
      "text/html": [
       "<style>\n",
       ".list-inline {list-style: none; margin:0; padding: 0}\n",
       ".list-inline>li {display: inline-block}\n",
       ".list-inline>li:not(:last-child)::after {content: \"\\00b7\"; padding: 0 .5ex}\n",
       "</style>\n",
       "<ol class=list-inline><li>2</li><li>4</li><li>6</li><li>4</li><li>8</li><li>12</li></ol>\n"
      ],
      "text/latex": [
       "\\begin{enumerate*}\n",
       "\\item 2\n",
       "\\item 4\n",
       "\\item 6\n",
       "\\item 4\n",
       "\\item 8\n",
       "\\item 12\n",
       "\\end{enumerate*}\n"
      ],
      "text/markdown": [
       "1. 2\n",
       "2. 4\n",
       "3. 6\n",
       "4. 4\n",
       "5. 8\n",
       "6. 12\n",
       "\n",
       "\n"
      ],
      "text/plain": [
       "[1]  2  4  6  4  8 12"
      ]
     },
     "metadata": {},
     "output_type": "display_data"
    }
   ],
   "source": [
    "c <- c(2,4,6) * rep(c(1,2), each = 3)\n",
    "c"
   ]
  },
  {
   "cell_type": "code",
   "execution_count": 36,
   "metadata": {
    "vscode": {
     "languageId": "r"
    }
   },
   "outputs": [
    {
     "data": {
      "text/html": [
       "<style>\n",
       ".list-inline {list-style: none; margin:0; padding: 0}\n",
       ".list-inline>li {display: inline-block}\n",
       ".list-inline>li:not(:last-child)::after {content: \"\\00b7\"; padding: 0 .5ex}\n",
       "</style>\n",
       "<ol class=list-inline><li>2</li><li>-0.1</li><li>-100</li><li>-0.1</li><li>-100</li><li>12</li></ol>\n"
      ],
      "text/latex": [
       "\\begin{enumerate*}\n",
       "\\item 2\n",
       "\\item -0.1\n",
       "\\item -100\n",
       "\\item -0.1\n",
       "\\item -100\n",
       "\\item 12\n",
       "\\end{enumerate*}\n"
      ],
      "text/markdown": [
       "1. 2\n",
       "2. -0.1\n",
       "3. -100\n",
       "4. -0.1\n",
       "5. -100\n",
       "6. 12\n",
       "\n",
       "\n"
      ],
      "text/plain": [
       "[1]    2.0   -0.1 -100.0   -0.1 -100.0   12.0"
      ]
     },
     "metadata": {},
     "output_type": "display_data"
    }
   ],
   "source": [
    "d <- c\n",
    "d[-c(1,length(d))] <- c(-0.1, -100)\n",
    "d"
   ]
  }
 ],
 "metadata": {
  "kernelspec": {
   "display_name": "R",
   "language": "R",
   "name": "ir"
  },
  "language_info": {
   "codemirror_mode": "r",
   "file_extension": ".r",
   "mimetype": "text/x-r-source",
   "name": "R",
   "pygments_lexer": "r",
   "version": "4.2.2"
  }
 },
 "nbformat": 4,
 "nbformat_minor": 2
}
